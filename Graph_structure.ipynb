{
 "cells": [
  {
   "cell_type": "code",
   "execution_count": 1,
   "metadata": {},
   "outputs": [
    {
     "name": "stdout",
     "output_type": "stream",
     "text": [
      "{<__main__.Node object at 0x7fa8c00f08b0>, <__main__.Node object at 0x7fa8c00f0850>}\n"
     ]
    }
   ],
   "source": [
    "class Node:\n",
    "    def __init__(self,name,value=0,neighbour=dict()):\n",
    "        self.name=name\n",
    "        self.value=value\n",
    "        self.neighbour=neighbour\n",
    "        \n",
    "S2=Node(\"S2\")\n",
    "L1=Node(\"L1\")\n",
    "L2=Node(\"L2\")\n",
    "U1=Node(\"U1\")\n",
    "U4=Node(\"U4\")\n",
    "\n",
    "S2.neighbour={\"L1\":0.4,\"L2\":0.5,\"U1\":0.4,\"U4\":0.6}\n",
    "L1.neighbour={\"S2\":0.4,\"U1\":0.4}\n",
    "graph={S2,L1}\n",
    "print(graph)"
   ]
  },
  {
   "cell_type": "code",
   "execution_count": 2,
   "metadata": {},
   "outputs": [
    {
     "name": "stdout",
     "output_type": "stream",
     "text": [
      "\n",
      "S2 200 {'L2': 15, 'L1': 20, 'U1': 10}\n",
      "L1 150 {'S2': 20, 'U1': 20}\n",
      "L2 90 {'S2': 15}\n",
      "U1 40 {'S2': 10, 'L1': 20}\n",
      "\n",
      "S2 200 {'L2': 15, 'L1': 20, 'U1': 10}\n",
      "L1 190.0 {'S2': 20, 'U1': 20}\n",
      "L2 120.0 {'S2': 15}\n",
      "U1 60.0 {'S2': 10, 'L1': 20}\n"
     ]
    }
   ],
   "source": [
    "class Graph:\n",
    "    def __init__(self):\n",
    "        self.nodes = dict()\n",
    "\n",
    "    def add_node(self, name, value):\n",
    "        node = Node(name, value)\n",
    "        self.nodes[name] = node\n",
    "\n",
    "    def add_edge(self, node_name1, node_name2, weight):\n",
    "        self.nodes[node_name1].neighbor[node_name2] = weight\n",
    "        self.nodes[node_name2].neighbor[node_name1] = weight\n",
    "\n",
    "    def print_info(self):\n",
    "        print()\n",
    "        for node_name in self.nodes:\n",
    "            print(self.nodes[node_name].name, self.nodes[node_name].value, self.nodes[node_name].neighbor)\n",
    "\n",
    "    def add_flow(self, start_node):\n",
    "        for node_name in self.nodes[start_node].neighbor:\n",
    "            self.nodes[node_name].value += self.nodes[start_node].neighbor[node_name] / 100 * self.nodes[start_node].value\n",
    "\n",
    "\n",
    "class Node:\n",
    "    def __init__(self, name, value=0):\n",
    "        self.name = name\n",
    "        self.value = value\n",
    "        self.neighbor = dict()\n",
    "\n",
    "\n",
    "graphA = Graph()\n",
    "graphA.add_node(\"S2\", 200)\n",
    "graphA.add_node(\"L1\", 150)\n",
    "graphA.add_node(\"L2\", 90)\n",
    "graphA.add_node(\"U1\", 40)\n",
    "\n",
    "graphA.add_edge(\"S2\", \"L2\", 15)\n",
    "graphA.add_edge(\"S2\", \"L1\", 20)\n",
    "graphA.add_edge(\"S2\", \"U1\", 10)\n",
    "graphA.add_edge(\"L1\", \"U1\", 20)\n",
    "\n",
    "graphA.print_info()\n",
    "graphA.add_flow(\"S2\")\n",
    "graphA.print_info()"
   ]
  },
  {
   "cell_type": "code",
   "execution_count": null,
   "metadata": {},
   "outputs": [],
   "source": []
  }
 ],
 "metadata": {
  "kernelspec": {
   "display_name": "dgl",
   "language": "python",
   "name": "dgl"
  },
  "language_info": {
   "codemirror_mode": {
    "name": "ipython",
    "version": 3
   },
   "file_extension": ".py",
   "mimetype": "text/x-python",
   "name": "python",
   "nbconvert_exporter": "python",
   "pygments_lexer": "ipython3",
   "version": "3.8.5"
  }
 },
 "nbformat": 4,
 "nbformat_minor": 2
}
