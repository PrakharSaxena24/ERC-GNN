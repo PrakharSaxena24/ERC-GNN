{
 "cells": [
  {
   "cell_type": "code",
   "execution_count": 2,
   "metadata": {},
   "outputs": [],
   "source": [
    "import numpy as np\n",
    "import pandas as pd\n",
    "import torch\n",
    "import torch.nn as nn\n",
    "from sklearn.model_selection import train_test_split\n",
    "from sklearn.metrics import classification_report\n",
    "import transformers\n",
    "from transformers import AutoModel, BertTokenizerFast\n",
    "from transformers import RobertaTokenizer, RobertaModel\n",
    "# from matplotlib import style\n",
    "import random\n",
    "import pickle\n",
    "# style.use(\"dark_background\")\n",
    "seed_val = 994\n",
    "random.seed(seed_val)\n",
    "np.random.seed(seed_val)\n",
    "torch.manual_seed(seed_val)\n",
    "torch.cuda.manual_seed_all(seed_val)\n",
    "device=torch.device(\"cuda\")\n",
    "import torch\n",
    "from torch.utils.data import Dataset\n",
    "from torch.nn.utils.rnn import pad_sequence\n",
    "import pickle, pandas as pd"
   ]
  },
  {
   "cell_type": "code",
   "execution_count": 8,
   "metadata": {},
   "outputs": [],
   "source": [
    "df=pd.read_csv(\"NRC-Emotion-Lexicon-Wordlevel-v0.92.txt\", sep=\"\\t\",names=[\"Word\",\"Emotion\",\"Affiliation\"])"
   ]
  },
  {
   "cell_type": "code",
   "execution_count": 14,
   "metadata": {},
   "outputs": [
    {
     "data": {
      "text/plain": [
       "(13872, 3)"
      ]
     },
     "execution_count": 14,
     "metadata": {},
     "output_type": "execute_result"
    }
   ],
   "source": [
    "print(df.head()\n",
    "df.shape\n"
   ]
  },
  {
   "cell_type": "code",
   "execution_count": 15,
   "metadata": {},
   "outputs": [
    {
     "name": "stdout",
     "output_type": "stream",
     "text": [
      "         Word   Emotion  Affiliation\n",
      "19     abacus     trust            1\n",
      "23    abandon      fear            1\n",
      "25    abandon  negative            1\n",
      "27    abandon   sadness            1\n",
      "30  abandoned     anger            1\n"
     ]
    }
   ],
   "source": [
    "df=df.loc[df[\"Affiliation\"]==1]\n",
    "df.shape\n",
    "print(df.head())"
   ]
  },
  {
   "cell_type": "code",
   "execution_count": 27,
   "metadata": {},
   "outputs": [
    {
     "name": "stdout",
     "output_type": "stream",
     "text": [
      "               Word   Emotion  Affiliation\n",
      "19           abacus     trust            1\n",
      "76             abba  positive            1\n",
      "89            abbot     trust            1\n",
      "206         ability  positive            1\n",
      "366  abovementioned  positive            1\n"
     ]
    },
    {
     "data": {
      "text/plain": [
       "(4225, 3)"
      ]
     },
     "execution_count": 27,
     "metadata": {},
     "output_type": "execute_result"
    }
   ],
   "source": [
    "df_positive=df.loc[(df[\"Emotion\"]==\"trust\") | (df[\"Emotion\"]==\"joy\" )| (df[\"Emotion\"]==\"positive\")]\n",
    "print(df_positive.head())\n",
    "df_positive.shape"
   ]
  },
  {
   "cell_type": "code",
   "execution_count": 28,
   "metadata": {},
   "outputs": [
    {
     "name": "stdout",
     "output_type": "stream",
     "text": [
      "         Word   Emotion  Affiliation\n",
      "23    abandon      fear            1\n",
      "25    abandon  negative            1\n",
      "27    abandon   sadness            1\n",
      "30  abandoned     anger            1\n",
      "33  abandoned      fear            1\n"
     ]
    },
    {
     "data": {
      "text/plain": [
       "(9647, 3)"
      ]
     },
     "execution_count": 28,
     "metadata": {},
     "output_type": "execute_result"
    }
   ],
   "source": [
    "df_negative=pd.concat([df_positive,df]).drop_duplicates(keep=False)\n",
    "print(df_negative.head())\n",
    "df_negative.shape"
   ]
  },
  {
   "cell_type": "code",
   "execution_count": 29,
   "metadata": {},
   "outputs": [
    {
     "name": "stdout",
     "output_type": "stream",
     "text": [
      "13872 13872\n"
     ]
    }
   ],
   "source": [
    "print(len(df),len(df_positive)+len(df_negative))"
   ]
  },
  {
   "cell_type": "code",
   "execution_count": 31,
   "metadata": {},
   "outputs": [],
   "source": [
    "df_positive.to_csv(\"PositiveLexicon.csv\",index=False)\n",
    "df_negative.to_csv(\"NegativeLexicon.csv\",index=False)"
   ]
  },
  {
   "cell_type": "code",
   "execution_count": null,
   "metadata": {},
   "outputs": [],
   "source": []
  }
 ],
 "metadata": {
  "kernelspec": {
   "display_name": "dgl",
   "language": "python",
   "name": "dgl"
  },
  "language_info": {
   "codemirror_mode": {
    "name": "ipython",
    "version": 3
   },
   "file_extension": ".py",
   "mimetype": "text/x-python",
   "name": "python",
   "nbconvert_exporter": "python",
   "pygments_lexer": "ipython3",
   "version": "3.8.5"
  }
 },
 "nbformat": 4,
 "nbformat_minor": 2
}
