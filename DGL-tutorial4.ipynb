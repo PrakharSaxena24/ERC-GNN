{
 "cells": [
  {
   "cell_type": "code",
   "execution_count": 1,
   "metadata": {},
   "outputs": [
    {
     "name": "stderr",
     "output_type": "stream",
     "text": [
      "Using backend: pytorch[17:41:02] /opt/dgl/src/runtime/tensordispatch.cc:43: TensorDispatcher: dlopen failed: /mnt/berry/home/prakhar/dgl/dgl/lib/python3.8/site-packages/dgl/tensoradapter/pytorch/libtensoradapter_pytorch_1.9.1.so: cannot open shared object file: No such file or directory\n",
      "\n"
     ]
    }
   ],
   "source": [
    "import dgl\n",
    "import torch\n",
    "import torch.nn as nn\n",
    "import torch.nn.functional as F\n",
    "import networkx as nx\n",
    "import itertools\n",
    "import numpy as np\n",
    "import scipy.sparse as sp"
   ]
  },
  {
   "cell_type": "code",
   "execution_count": 2,
   "metadata": {},
   "outputs": [
    {
     "name": "stdout",
     "output_type": "stream",
     "text": [
      "   Id    Club  Age\n",
      "0   0  Mr. Hi   44\n",
      "1   1  Mr. Hi   37\n",
      "2   2  Mr. Hi   37\n",
      "3   3  Mr. Hi   40\n",
      "4   4  Mr. Hi   30\n",
      "   Src  Dst    Weight\n",
      "0    0    1  0.043591\n",
      "1    0    2  0.282119\n",
      "2    0    3  0.370293\n",
      "3    0    4  0.730570\n",
      "4    0    5  0.821187\n"
     ]
    }
   ],
   "source": [
    "import dgl.data\n",
    "import urllib.request\n",
    "import pandas as pd\n",
    "\n",
    "urllib.request.urlretrieve(\"https://data.dgl.ai/tutorial/dataset/members.csv\",\"./members.csv\")\n",
    "members=pd.read_csv(\"./members.csv\")\n",
    "urllib.request.urlretrieve(\"https://data.dgl.ai/tutorial/dataset/interactions.csv\",\"./interactions.csv\")\n",
    "interactions=pd.read_csv(\"./interactions.csv\")\n",
    "print(members.head())\n",
    "print(interactions.head())"
   ]
  },
  {
   "cell_type": "code",
   "execution_count": 8,
   "metadata": {},
   "outputs": [
    {
     "name": "stdout",
     "output_type": "stream",
     "text": [
      "<__main__.KarateClubDataset object at 0x7fd9b504c7f0>\n",
      "Graph(num_nodes=34, num_edges=156,\n",
      "      ndata_schemes={'feat': Scheme(shape=(), dtype=torch.int64), 'label': Scheme(shape=(), dtype=torch.int8), 'train_mask': Scheme(shape=(), dtype=torch.bool), 'val_mask': Scheme(shape=(), dtype=torch.bool), 'test_mask': Scheme(shape=(), dtype=torch.bool)}\n",
      "      edata_schemes={'weight': Scheme(shape=(), dtype=torch.float64)})\n"
     ]
    }
   ],
   "source": [
    "import dgl\n",
    "from dgl.data import DGLDataset\n",
    "import torch\n",
    "import os\n",
    "\n",
    "class KarateClubDataset(DGLDataset):\n",
    "    def __init__(self):\n",
    "        super().__init__(name=\"karate_club\")\n",
    "    \n",
    "    def process(self):\n",
    "        nodes_data=pd.read_csv(\"./members.csv\")\n",
    "        edges_data=pd.read_csv(\"./interactions.csv\")\n",
    "        node_features=torch.from_numpy(nodes_data[\"Age\"].to_numpy())\n",
    "        edge_features=torch.from_numpy(edges_data[\"Weight\"].to_numpy())\n",
    "        node_labels=torch.from_numpy(nodes_data[\"Club\"].astype(\"category\").cat.codes.to_numpy())\n",
    "        edge_src=torch.from_numpy(edges_data[\"Src\"].to_numpy())\n",
    "        edge_dst=torch.from_numpy(edges_data[\"Dst\"].to_numpy())\n",
    "        \n",
    "        self.graph=dgl.graph((edge_src,edge_dst),num_nodes=nodes_data.shape[0])\n",
    "        self.graph.ndata[\"feat\"]=node_features\n",
    "        self.graph.ndata[\"label\"]=node_labels\n",
    "        self.graph.edata[\"weight\"]=edge_features\n",
    "        \n",
    "        \n",
    "        n_nodes=nodes_data.shape[0]\n",
    "        n_train=int(n_nodes*0.6)\n",
    "        n_val=int(n_nodes*2)\n",
    "        train_mask=torch.zeros(n_nodes,dtype=torch.bool)\n",
    "        val_mask=torch.zeros(n_nodes,dtype=torch.bool)\n",
    "        test_mask=torch.zeros(n_nodes,dtype=torch.bool)\n",
    "        train_mask[:n_train]=True\n",
    "        val_mask[n_train:n_train+n_val]=True\n",
    "        test_mask[n_train+n_val:]=True\n",
    "        self.graph.ndata[\"train_mask\"]=train_mask\n",
    "        self.graph.ndata[\"val_mask\"]=val_mask\n",
    "        self.graph.ndata[\"test_mask\"]=test_mask\n",
    "        \n",
    "    def __getitem__(self,i):\n",
    "        return self.graph\n",
    "\n",
    "    def __len__(self):\n",
    "        return 1\n",
    "    \n",
    "dataset=KarateClubDataset()\n",
    "print(dataset)\n",
    "graph=dataset[0]\n",
    "print(graph)"
   ]
  },
  {
   "cell_type": "code",
   "execution_count": 5,
   "metadata": {},
   "outputs": [
    {
     "ename": "DGLError",
     "evalue": "Invalid key \"0\". Must be one of the edge types.",
     "output_type": "error",
     "traceback": [
      "\u001b[0;31m---------------------------------------------------------------------------\u001b[0m",
      "\u001b[0;31mDGLError\u001b[0m                                  Traceback (most recent call last)",
      "\u001b[0;32m/tmp/ipykernel_1529596/3544692121.py\u001b[0m in \u001b[0;36m<module>\u001b[0;34m\u001b[0m\n\u001b[0;32m----> 1\u001b[0;31m \u001b[0mpos\u001b[0m\u001b[0;34m=\u001b[0m\u001b[0mnx\u001b[0m\u001b[0;34m.\u001b[0m\u001b[0mkamada_kawai_layout\u001b[0m\u001b[0;34m(\u001b[0m\u001b[0mg\u001b[0m\u001b[0;34m)\u001b[0m\u001b[0;34m\u001b[0m\u001b[0;34m\u001b[0m\u001b[0m\n\u001b[0m\u001b[1;32m      2\u001b[0m \u001b[0mnx\u001b[0m\u001b[0;34m.\u001b[0m\u001b[0mdraw\u001b[0m\u001b[0;34m(\u001b[0m\u001b[0mpos\u001b[0m\u001b[0;34m)\u001b[0m\u001b[0;34m\u001b[0m\u001b[0;34m\u001b[0m\u001b[0m\n",
      "\u001b[0;32m/mnt/berry/home/prakhar/dgl/dgl/lib/python3.8/site-packages/networkx/drawing/layout.py\u001b[0m in \u001b[0;36mkamada_kawai_layout\u001b[0;34m(G, dist, pos, weight, scale, center, dim)\u001b[0m\n\u001b[1;32m    683\u001b[0m     \u001b[0;32mimport\u001b[0m \u001b[0mnumpy\u001b[0m \u001b[0;32mas\u001b[0m \u001b[0mnp\u001b[0m\u001b[0;34m\u001b[0m\u001b[0;34m\u001b[0m\u001b[0m\n\u001b[1;32m    684\u001b[0m \u001b[0;34m\u001b[0m\u001b[0m\n\u001b[0;32m--> 685\u001b[0;31m     \u001b[0mG\u001b[0m\u001b[0;34m,\u001b[0m \u001b[0mcenter\u001b[0m \u001b[0;34m=\u001b[0m \u001b[0m_process_params\u001b[0m\u001b[0;34m(\u001b[0m\u001b[0mG\u001b[0m\u001b[0;34m,\u001b[0m \u001b[0mcenter\u001b[0m\u001b[0;34m,\u001b[0m \u001b[0mdim\u001b[0m\u001b[0;34m)\u001b[0m\u001b[0;34m\u001b[0m\u001b[0;34m\u001b[0m\u001b[0m\n\u001b[0m\u001b[1;32m    686\u001b[0m     \u001b[0mnNodes\u001b[0m \u001b[0;34m=\u001b[0m \u001b[0mlen\u001b[0m\u001b[0;34m(\u001b[0m\u001b[0mG\u001b[0m\u001b[0;34m)\u001b[0m\u001b[0;34m\u001b[0m\u001b[0;34m\u001b[0m\u001b[0m\n\u001b[1;32m    687\u001b[0m     \u001b[0;32mif\u001b[0m \u001b[0mnNodes\u001b[0m \u001b[0;34m==\u001b[0m \u001b[0;36m0\u001b[0m\u001b[0;34m:\u001b[0m\u001b[0;34m\u001b[0m\u001b[0;34m\u001b[0m\u001b[0m\n",
      "\u001b[0;32m/mnt/berry/home/prakhar/dgl/dgl/lib/python3.8/site-packages/networkx/drawing/layout.py\u001b[0m in \u001b[0;36m_process_params\u001b[0;34m(G, center, dim)\u001b[0m\n\u001b[1;32m     42\u001b[0m     \u001b[0;32mif\u001b[0m \u001b[0;32mnot\u001b[0m \u001b[0misinstance\u001b[0m\u001b[0;34m(\u001b[0m\u001b[0mG\u001b[0m\u001b[0;34m,\u001b[0m \u001b[0mnx\u001b[0m\u001b[0;34m.\u001b[0m\u001b[0mGraph\u001b[0m\u001b[0;34m)\u001b[0m\u001b[0;34m:\u001b[0m\u001b[0;34m\u001b[0m\u001b[0;34m\u001b[0m\u001b[0m\n\u001b[1;32m     43\u001b[0m         \u001b[0mempty_graph\u001b[0m \u001b[0;34m=\u001b[0m \u001b[0mnx\u001b[0m\u001b[0;34m.\u001b[0m\u001b[0mGraph\u001b[0m\u001b[0;34m(\u001b[0m\u001b[0;34m)\u001b[0m\u001b[0;34m\u001b[0m\u001b[0;34m\u001b[0m\u001b[0m\n\u001b[0;32m---> 44\u001b[0;31m         \u001b[0mempty_graph\u001b[0m\u001b[0;34m.\u001b[0m\u001b[0madd_nodes_from\u001b[0m\u001b[0;34m(\u001b[0m\u001b[0mG\u001b[0m\u001b[0;34m)\u001b[0m\u001b[0;34m\u001b[0m\u001b[0;34m\u001b[0m\u001b[0m\n\u001b[0m\u001b[1;32m     45\u001b[0m         \u001b[0mG\u001b[0m \u001b[0;34m=\u001b[0m \u001b[0mempty_graph\u001b[0m\u001b[0;34m\u001b[0m\u001b[0;34m\u001b[0m\u001b[0m\n\u001b[1;32m     46\u001b[0m \u001b[0;34m\u001b[0m\u001b[0m\n",
      "\u001b[0;32m/mnt/berry/home/prakhar/dgl/dgl/lib/python3.8/site-packages/networkx/classes/graph.py\u001b[0m in \u001b[0;36madd_nodes_from\u001b[0;34m(self, nodes_for_adding, **attr)\u001b[0m\n\u001b[1;32m    568\u001b[0m \u001b[0;34m\u001b[0m\u001b[0m\n\u001b[1;32m    569\u001b[0m         \"\"\"\n\u001b[0;32m--> 570\u001b[0;31m         \u001b[0;32mfor\u001b[0m \u001b[0mn\u001b[0m \u001b[0;32min\u001b[0m \u001b[0mnodes_for_adding\u001b[0m\u001b[0;34m:\u001b[0m\u001b[0;34m\u001b[0m\u001b[0;34m\u001b[0m\u001b[0m\n\u001b[0m\u001b[1;32m    571\u001b[0m             \u001b[0;32mtry\u001b[0m\u001b[0;34m:\u001b[0m\u001b[0;34m\u001b[0m\u001b[0;34m\u001b[0m\u001b[0m\n\u001b[1;32m    572\u001b[0m                 \u001b[0mnewnode\u001b[0m \u001b[0;34m=\u001b[0m \u001b[0mn\u001b[0m \u001b[0;32mnot\u001b[0m \u001b[0;32min\u001b[0m \u001b[0mself\u001b[0m\u001b[0;34m.\u001b[0m\u001b[0m_node\u001b[0m\u001b[0;34m\u001b[0m\u001b[0;34m\u001b[0m\u001b[0m\n",
      "\u001b[0;32m/mnt/berry/home/prakhar/dgl/dgl/lib/python3.8/site-packages/dgl/heterograph.py\u001b[0m in \u001b[0;36m__getitem__\u001b[0;34m(self, key)\u001b[0m\n\u001b[1;32m   2229\u001b[0m \u001b[0;34m\u001b[0m\u001b[0m\n\u001b[1;32m   2230\u001b[0m         \u001b[0;32mif\u001b[0m \u001b[0mlen\u001b[0m\u001b[0;34m(\u001b[0m\u001b[0metypes\u001b[0m\u001b[0;34m)\u001b[0m \u001b[0;34m==\u001b[0m \u001b[0;36m0\u001b[0m\u001b[0;34m:\u001b[0m\u001b[0;34m\u001b[0m\u001b[0;34m\u001b[0m\u001b[0m\n\u001b[0;32m-> 2231\u001b[0;31m             \u001b[0;32mraise\u001b[0m \u001b[0mDGLError\u001b[0m\u001b[0;34m(\u001b[0m\u001b[0;34m'Invalid key \"{}\". Must be one of the edge types.'\u001b[0m\u001b[0;34m.\u001b[0m\u001b[0mformat\u001b[0m\u001b[0;34m(\u001b[0m\u001b[0morig_key\u001b[0m\u001b[0;34m)\u001b[0m\u001b[0;34m)\u001b[0m\u001b[0;34m\u001b[0m\u001b[0;34m\u001b[0m\u001b[0m\n\u001b[0m\u001b[1;32m   2232\u001b[0m \u001b[0;34m\u001b[0m\u001b[0m\n\u001b[1;32m   2233\u001b[0m         \u001b[0;32mif\u001b[0m \u001b[0mlen\u001b[0m\u001b[0;34m(\u001b[0m\u001b[0metypes\u001b[0m\u001b[0;34m)\u001b[0m \u001b[0;34m==\u001b[0m \u001b[0;36m1\u001b[0m\u001b[0;34m:\u001b[0m\u001b[0;34m\u001b[0m\u001b[0;34m\u001b[0m\u001b[0m\n",
      "\u001b[0;31mDGLError\u001b[0m: Invalid key \"0\". Must be one of the edge types."
     ]
    }
   ],
   "source": []
  },
  {
   "cell_type": "code",
   "execution_count": 63,
   "metadata": {},
   "outputs": [
    {
     "name": "stdout",
     "output_type": "stream",
     "text": [
      "node features {'feat': tensor([[0., 0., 0.,  ..., 0., 0., 0.],\n",
      "        [0., 0., 0.,  ..., 0., 0., 0.],\n",
      "        [0., 0., 0.,  ..., 0., 0., 0.],\n",
      "        ...,\n",
      "        [0., 0., 0.,  ..., 0., 0., 0.],\n",
      "        [0., 0., 0.,  ..., 0., 0., 0.],\n",
      "        [0., 0., 0.,  ..., 0., 0., 0.]]), 'label': tensor([3, 4, 4,  ..., 3, 3, 3]), 'test_mask': tensor([False, False, False,  ...,  True,  True,  True]), 'train_mask': tensor([ True,  True,  True,  ..., False, False, False]), 'val_mask': tensor([False, False, False,  ..., False, False, False])}\n",
      "torch.Size([2708, 1433])\n",
      "7\n",
      "torch.Size([140])\n"
     ]
    }
   ],
   "source": [
    "print(\"node features\",g.ndata)\n",
    "print((g.ndata[\"feat\"].shape))\n",
    "print((g.ndata[\"label\"].unique().size())[0])\n",
    "labels=g.ndata[\"label\"]\n",
    "train_mask=g.ndata[\"train_mask\"]\n",
    "print(labels[train_mask].shape)"
   ]
  },
  {
   "cell_type": "code",
   "execution_count": 23,
   "metadata": {},
   "outputs": [
    {
     "name": "stdout",
     "output_type": "stream",
     "text": [
      "edge features {}\n"
     ]
    }
   ],
   "source": [
    "print(\"edge features\",g.edata)"
   ]
  },
  {
   "cell_type": "code",
   "execution_count": 59,
   "metadata": {},
   "outputs": [],
   "source": [
    "from dgl.nn import GraphConv\n",
    "\n",
    "class GCN(nn.Module):\n",
    "    def __init__(self,in_feat,h_feat, num_classes):\n",
    "        super(GCN,self).__init__()\n",
    "        self.conv1=GraphConv(in_feat,h_feat)\n",
    "        self.conv2=GraphConv(h_feat,num_classes)\n",
    "    def forward(self,g,in_feat):\n",
    "        h=self.conv1(g,in_feat)\n",
    "        h=F.relu(h)\n",
    "        h=self.conv2(g,h)\n",
    "        return h\n",
    "    \n",
    "model=GCN(g.ndata[\"feat\"].shape[1],16,g.ndata[\"label\"].unique().size()[0])"
   ]
  },
  {
   "cell_type": "code",
   "execution_count": 71,
   "metadata": {},
   "outputs": [
    {
     "name": "stdout",
     "output_type": "stream",
     "text": [
      "In epoch0, loss:  1.946, val_acc:  0.118 (best:  0.118), test_acc:  0.116 (best test:  0.116)\n",
      "In epoch5, loss:  1.900, val_acc:  0.522 (best:  0.522), test_acc:  0.547 (best test:  0.547)\n",
      "In epoch10, loss:  1.829, val_acc:  0.658 (best:  0.658), test_acc:  0.691 (best test:  0.691)\n",
      "In epoch15, loss:  1.736, val_acc:  0.648 (best:  0.658), test_acc:  0.689 (best test:  0.691)\n",
      "In epoch20, loss:  1.617, val_acc:  0.666 (best:  0.666), test_acc:  0.700 (best test:  0.700)\n",
      "In epoch25, loss:  1.476, val_acc:  0.706 (best:  0.706), test_acc:  0.731 (best test:  0.731)\n",
      "In epoch30, loss:  1.316, val_acc:  0.722 (best:  0.724), test_acc:  0.747 (best test:  0.745)\n",
      "In epoch35, loss:  1.143, val_acc:  0.736 (best:  0.736), test_acc:  0.759 (best test:  0.759)\n",
      "In epoch40, loss:  0.967, val_acc:  0.742 (best:  0.742), test_acc:  0.762 (best test:  0.760)\n",
      "In epoch45, loss:  0.799, val_acc:  0.750 (best:  0.750), test_acc:  0.768 (best test:  0.768)\n",
      "In epoch50, loss:  0.648, val_acc:  0.754 (best:  0.756), test_acc:  0.772 (best test:  0.771)\n",
      "In epoch55, loss:  0.519, val_acc:  0.754 (best:  0.756), test_acc:  0.772 (best test:  0.771)\n",
      "In epoch60, loss:  0.414, val_acc:  0.762 (best:  0.762), test_acc:  0.773 (best test:  0.772)\n",
      "In epoch65, loss:  0.330, val_acc:  0.776 (best:  0.776), test_acc:  0.779 (best test:  0.779)\n",
      "In epoch70, loss:  0.265, val_acc:  0.778 (best:  0.778), test_acc:  0.782 (best test:  0.779)\n",
      "In epoch75, loss:  0.215, val_acc:  0.780 (best:  0.780), test_acc:  0.783 (best test:  0.782)\n",
      "In epoch80, loss:  0.176, val_acc:  0.780 (best:  0.780), test_acc:  0.782 (best test:  0.782)\n",
      "In epoch85, loss:  0.146, val_acc:  0.772 (best:  0.780), test_acc:  0.780 (best test:  0.782)\n",
      "In epoch90, loss:  0.122, val_acc:  0.768 (best:  0.780), test_acc:  0.780 (best test:  0.782)\n",
      "In epoch95, loss:  0.104, val_acc:  0.766 (best:  0.780), test_acc:  0.778 (best test:  0.782)\n",
      "In epoch100, loss:  0.089, val_acc:  0.766 (best:  0.780), test_acc:  0.779 (best test:  0.782)\n",
      "In epoch105, loss:  0.077, val_acc:  0.766 (best:  0.780), test_acc:  0.780 (best test:  0.782)\n",
      "In epoch110, loss:  0.067, val_acc:  0.764 (best:  0.780), test_acc:  0.772 (best test:  0.782)\n",
      "In epoch115, loss:  0.060, val_acc:  0.764 (best:  0.780), test_acc:  0.773 (best test:  0.782)\n",
      "In epoch120, loss:  0.053, val_acc:  0.764 (best:  0.780), test_acc:  0.773 (best test:  0.782)\n",
      "In epoch125, loss:  0.048, val_acc:  0.764 (best:  0.780), test_acc:  0.769 (best test:  0.782)\n",
      "In epoch130, loss:  0.043, val_acc:  0.764 (best:  0.780), test_acc:  0.768 (best test:  0.782)\n",
      "In epoch135, loss:  0.039, val_acc:  0.766 (best:  0.780), test_acc:  0.764 (best test:  0.782)\n",
      "In epoch140, loss:  0.036, val_acc:  0.766 (best:  0.780), test_acc:  0.763 (best test:  0.782)\n",
      "In epoch145, loss:  0.033, val_acc:  0.764 (best:  0.780), test_acc:  0.764 (best test:  0.782)\n",
      "In epoch150, loss:  0.030, val_acc:  0.764 (best:  0.780), test_acc:  0.762 (best test:  0.782)\n",
      "In epoch155, loss:  0.028, val_acc:  0.764 (best:  0.780), test_acc:  0.762 (best test:  0.782)\n",
      "In epoch160, loss:  0.026, val_acc:  0.764 (best:  0.780), test_acc:  0.762 (best test:  0.782)\n",
      "In epoch165, loss:  0.024, val_acc:  0.764 (best:  0.780), test_acc:  0.762 (best test:  0.782)\n",
      "In epoch170, loss:  0.022, val_acc:  0.762 (best:  0.780), test_acc:  0.762 (best test:  0.782)\n",
      "In epoch175, loss:  0.021, val_acc:  0.760 (best:  0.780), test_acc:  0.761 (best test:  0.782)\n",
      "In epoch180, loss:  0.020, val_acc:  0.760 (best:  0.780), test_acc:  0.761 (best test:  0.782)\n",
      "In epoch185, loss:  0.019, val_acc:  0.760 (best:  0.780), test_acc:  0.760 (best test:  0.782)\n",
      "In epoch190, loss:  0.018, val_acc:  0.760 (best:  0.780), test_acc:  0.760 (best test:  0.782)\n",
      "In epoch195, loss:  0.017, val_acc:  0.762 (best:  0.780), test_acc:  0.760 (best test:  0.782)\n"
     ]
    }
   ],
   "source": [
    "def train(g,model):\n",
    "    optimizer=torch.optim.Adam(model.parameters(),lr=0.01)\n",
    "    best_val_acc,best_test_acc=0,0\n",
    "    features=g.ndata[\"feat\"]\n",
    "    lables=g.ndata[\"label\"]\n",
    "    train_mask=g.ndata[\"train_mask\"]\n",
    "    val_mask=g.ndata[\"val_mask\"]\n",
    "    test_mask=g.ndata[\"test_mask\"]\n",
    "    \n",
    "    for e in range(200):\n",
    "#         forward\n",
    "        logits=model(g,features)\n",
    "#         prediction\n",
    "        preds=logits.argmax(1)\n",
    "        loss=F.cross_entropy(logits[train_mask],labels[train_mask])\n",
    "        train_acc=(preds[train_mask]==labels[train_mask]).float().mean()\n",
    "        val_acc=(preds[val_mask]==labels[val_mask]).float().mean()\n",
    "        test_acc=(preds[test_mask]==labels[test_mask]).float().mean()\n",
    "        \n",
    "        if best_val_acc<val_acc:\n",
    "            best_val_acc=val_acc\n",
    "            best_test_acc=test_acc\n",
    "        \n",
    "        optimizer.zero_grad()\n",
    "        loss.backward()\n",
    "        optimizer.step()\n",
    "        \n",
    "        if e%5==0:\n",
    "            print(\"In epoch{}, loss: {: .3f}, val_acc: {: .3f} (best: {: .3f}), test_acc: {: .3f} (best test: {: .3f})\".format(e,loss,val_acc,best_val_acc,test_acc,best_test_acc))\n",
    "        \n",
    "model=GCN(g.ndata[\"feat\"].shape[1],16,g.ndata[\"label\"].unique().size()[0])\n",
    "train(g,model)"
   ]
  },
  {
   "cell_type": "code",
   "execution_count": null,
   "metadata": {},
   "outputs": [],
   "source": []
  }
 ],
 "metadata": {
  "kernelspec": {
   "display_name": "dgl",
   "language": "python",
   "name": "dgl"
  },
  "language_info": {
   "codemirror_mode": {
    "name": "ipython",
    "version": 3
   },
   "file_extension": ".py",
   "mimetype": "text/x-python",
   "name": "python",
   "nbconvert_exporter": "python",
   "pygments_lexer": "ipython3",
   "version": "3.8.5"
  }
 },
 "nbformat": 4,
 "nbformat_minor": 2
}
